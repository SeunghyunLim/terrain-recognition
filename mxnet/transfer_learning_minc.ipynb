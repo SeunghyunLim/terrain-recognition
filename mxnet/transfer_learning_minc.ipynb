{
 "cells": [
  {
   "cell_type": "code",
   "execution_count": 1,
   "metadata": {},
   "outputs": [],
   "source": [
    "%matplotlib inline"
   ]
  },
  {
   "cell_type": "markdown",
   "metadata": {},
   "source": [
    "4. Transfer Learning with Your Own Image Dataset\n",
    "=======================================================\n",
    "\n",
    "Dataset size is a big factor in the performance of deep learning models.\n",
    "``ImageNet`` has over one million labeled images, but\n",
    "we often don't have so much labeled data in other domains.\n",
    "Training a deep learning models on small datasets may lead to severe overfitting.\n",
    "\n",
    "Transfer learning is a technique that addresses this problem.\n",
    "The idea is simple: we can start training with a pre-trained model,\n",
    "instead of starting from scratch.\n",
    "As Isaac Newton said, \"If I have seen further it is by standing on the\n",
    "shoulders of Giants\".\n",
    "\n",
    "In this tutorial, we will explain the basics of transfer\n",
    "learning, and apply it to the ``MINC-2500`` dataset.\n",
    "\n",
    "Data Preparation\n",
    "----------------\n",
    "\n",
    "`MINC <http://opensurfaces.cs.cornell.edu/publications/minc/>`__ is\n",
    "short for Materials in Context Database, provided by Cornell.\n",
    "``MINC-2500`` is a resized subset of ``MINC`` with 23 classes, and 2500\n",
    "images in each class. It is well labeled and has a moderate size thus is\n",
    "perfect to be our example.\n",
    "\n",
    "|image-minc|\n",
    "\n",
    "To start, we first download ``MINC-2500`` from\n",
    "`here <http://opensurfaces.cs.cornell.edu/publications/minc/>`__.\n",
    "Suppose we have the data downloaded to ``~/data/`` and\n",
    "extracted to ``~/data/minc-2500``.\n",
    "\n",
    "After extraction, it occupies around 2.6GB disk space with the following\n",
    "structure:\n",
    "\n",
    "::\n",
    "\n",
    "    minc-2500\n",
    "    ├── README.txt\n",
    "    ├── categories.txt\n",
    "    ├── images\n",
    "    └── labels\n",
    "\n",
    "The ``images`` folder has 23 sub-folders for 23 classes, and ``labels``\n",
    "folder contains five different splits for training, validation, and test.\n",
    "\n",
    "We have written a script to prepare the data for you:\n",
    "\n",
    ":download:`Download prepare_minc.py<../../../scripts/classification/finetune/prepare_minc.py>`\n",
    "\n",
    "Run it with\n",
    "\n",
    "::\n",
    "\n",
    "    python prepare_minc.py --data ~/data/minc-2500 --split 1\n",
    "\n",
    "Now we have the following structure:\n",
    "\n",
    "::\n",
    "\n",
    "    minc-2500\n",
    "    ├── categories.txt\n",
    "    ├── images\n",
    "    ├── labels\n",
    "    ├── README.txt\n",
    "    ├── test\n",
    "    ├── train\n",
    "    └── val\n",
    "\n",
    "In order to go through this tutorial within a reasonable amount of time,\n",
    "we have prepared a small subset of the ``MINC-2500`` dataset,\n",
    "but you should substitute it with the original dataset for your experiments.\n",
    "We can download and extract it with:\n"
   ]
  },
  {
   "cell_type": "code",
   "execution_count": 2,
   "metadata": {},
   "outputs": [
    {
     "name": "stderr",
     "output_type": "stream",
     "text": [
      "/home/lsh/.local/lib/python2.7/site-packages/gluoncv/utils/version.py:53: DeprecationWarning: Python2 has reached the end of its life on January 1st, 2020. A future version of gluoncv will drop support for Python 2.\n",
      "  warnings.warn(msg, DeprecationWarning)\n"
     ]
    }
   ],
   "source": [
    "import zipfile, os\n",
    "from gluoncv.utils import download\n",
    "\n",
    "file_url = 'https://raw.githubusercontent.com/dmlc/web-data/master/gluoncv/classification/minc-2500-tiny.zip'\n",
    "zip_file = download(file_url, path='./')\n",
    "with zipfile.ZipFile(zip_file, 'r') as zin:\n",
    "    zin.extractall(os.path.expanduser('./'))"
   ]
  },
  {
   "cell_type": "markdown",
   "metadata": {},
   "source": [
    "Hyperparameters\n",
    "----------\n",
    "\n",
    "First, let's import all other necessary libraries.\n",
    "\n"
   ]
  },
  {
   "cell_type": "code",
   "execution_count": 3,
   "metadata": {},
   "outputs": [],
   "source": [
    "import mxnet as mx\n",
    "import numpy as np\n",
    "import os, time, shutil\n",
    "\n",
    "from mxnet import gluon, image, init, nd\n",
    "from mxnet import autograd as ag\n",
    "from mxnet.gluon import nn\n",
    "from mxnet.gluon.data.vision import transforms\n",
    "from gluoncv.utils import makedirs\n",
    "from gluoncv.model_zoo import get_model"
   ]
  },
  {
   "cell_type": "markdown",
   "metadata": {},
   "source": [
    "We set the hyperparameters as following:\n",
    "\n"
   ]
  },
  {
   "cell_type": "code",
   "execution_count": 4,
   "metadata": {},
   "outputs": [],
   "source": [
    "classes = 23\n",
    "\n",
    "epochs = 40\n",
    "lr = 0.001\n",
    "per_device_batch_size = 1\n",
    "momentum = 0.9\n",
    "wd = 0.0001\n",
    "\n",
    "lr_factor = 0.75\n",
    "lr_steps = [10, 20, 30, np.inf]\n",
    "\n",
    "num_gpus = 1\n",
    "num_workers = 8\n",
    "ctx = [mx.gpu(i) for i in range(num_gpus)] if num_gpus > 0 else [mx.cpu()]\n",
    "batch_size = per_device_batch_size * max(num_gpus, 1)"
   ]
  },
  {
   "cell_type": "markdown",
   "metadata": {},
   "source": [
    "Things to keep in mind:\n",
    "\n",
    "1. ``epochs = 5`` is just for this tutorial with the tiny dataset. please change it to a larger number in your experiments, for instance 40.\n",
    "2. ``per_device_batch_size`` is also set to a small number. In your experiments you can try larger number like 64.\n",
    "3. remember to tune ``num_gpus`` and ``num_workers`` according to your machine.\n",
    "4. A pre-trained model is already in a pretty good status. So we can start with a small ``lr``.\n",
    "\n",
    "Data Augmentation\n",
    "-----------------\n",
    "\n",
    "In transfer learning, data augmentation can also help.\n",
    "We use the following augmentation in training:\n",
    "\n",
    "2. Randomly crop the image and resize it to 224x224\n",
    "3. Randomly flip the image horizontally\n",
    "4. Randomly jitter color and add noise\n",
    "5. Transpose the data from height*width*num_channels to num_channels*height*width, and map values from [0, 255] to [0, 1]\n",
    "6. Normalize with the mean and standard deviation from the ImageNet dataset.\n",
    "\n",
    "\n"
   ]
  },
  {
   "cell_type": "code",
   "execution_count": 5,
   "metadata": {},
   "outputs": [],
   "source": [
    "jitter_param = 0.4\n",
    "lighting_param = 0.1\n",
    "\n",
    "transform_train = transforms.Compose([\n",
    "    transforms.RandomResizedCrop(224),\n",
    "    transforms.RandomFlipLeftRight(),\n",
    "    transforms.RandomColorJitter(brightness=jitter_param, contrast=jitter_param,\n",
    "                                 saturation=jitter_param),\n",
    "    transforms.RandomLighting(lighting_param),\n",
    "    transforms.ToTensor(),\n",
    "    transforms.Normalize([0.485, 0.456, 0.406], [0.229, 0.224, 0.225])\n",
    "])\n",
    "\n",
    "transform_test = transforms.Compose([\n",
    "    transforms.Resize(256),\n",
    "    transforms.CenterCrop(224),\n",
    "    transforms.ToTensor(),\n",
    "    transforms.Normalize([0.485, 0.456, 0.406], [0.229, 0.224, 0.225])\n",
    "])"
   ]
  },
  {
   "cell_type": "markdown",
   "metadata": {},
   "source": [
    "With the data augmentation functions, we can define our data loaders:\n",
    "\n"
   ]
  },
  {
   "cell_type": "code",
   "execution_count": 6,
   "metadata": {},
   "outputs": [],
   "source": [
    "path = '~/data/minc-2500'\n",
    "train_path = os.path.join(path, 'train')\n",
    "val_path = os.path.join(path, 'val')\n",
    "test_path = os.path.join(path, 'test')\n",
    "\n",
    "train_data = gluon.data.DataLoader(\n",
    "    gluon.data.vision.ImageFolderDataset(train_path).transform_first(transform_train),\n",
    "    batch_size=batch_size, shuffle=True, num_workers=num_workers)\n",
    "\n",
    "val_data = gluon.data.DataLoader(\n",
    "    gluon.data.vision.ImageFolderDataset(val_path).transform_first(transform_test),\n",
    "    batch_size=batch_size, shuffle=False, num_workers = num_workers)\n",
    "\n",
    "test_data = gluon.data.DataLoader(\n",
    "    gluon.data.vision.ImageFolderDataset(test_path).transform_first(transform_test),\n",
    "    batch_size=batch_size, shuffle=False, num_workers = num_workers)"
   ]
  },
  {
   "cell_type": "markdown",
   "metadata": {},
   "source": [
    "Note that only ``train_data`` uses ``transform_train``, while\n",
    "``val_data`` and ``test_data`` use ``transform_test`` to produce deterministic\n",
    "results for evaluation.\n",
    "\n",
    "Model and Trainer\n",
    "-----------------\n",
    "\n",
    "We use a pre-trained ``ResNet50_v2`` model, which has balanced accuracy and\n",
    "computation cost.\n",
    "\n"
   ]
  },
  {
   "cell_type": "code",
   "execution_count": 7,
   "metadata": {},
   "outputs": [],
   "source": [
    "model_name = 'ResNet50_v2'\n",
    "finetune_net = get_model(model_name, pretrained=True)\n",
    "with finetune_net.name_scope():\n",
    "    finetune_net.output = nn.Dense(classes)\n",
    "finetune_net.output.initialize(init.Xavier(), ctx = ctx)\n",
    "finetune_net.collect_params().reset_ctx(ctx)\n",
    "finetune_net.hybridize()\n",
    "\n",
    "trainer = gluon.Trainer(finetune_net.collect_params(), 'sgd', {\n",
    "                        'learning_rate': lr, 'momentum': momentum, 'wd': wd})\n",
    "metric = mx.metric.Accuracy()\n",
    "L = gluon.loss.SoftmaxCrossEntropyLoss()"
   ]
  },
  {
   "cell_type": "markdown",
   "metadata": {},
   "source": [
    "Here's an illustration of the pre-trained model\n",
    "and our newly defined model:\n",
    "\n",
    "|image-model|\n",
    "\n",
    "Specifically, we define the new model by::\n",
    "\n",
    "1. load the pre-trained model\n",
    "2. re-define the output layer for the new task\n",
    "3. train the network\n",
    "\n",
    "This is called \"fine-tuning\", i.e. we have a model trained on another task,\n",
    "and we would like to tune it for the dataset we have in hand.\n",
    "\n",
    "We define a evaluation function for validation and testing.\n",
    "\n"
   ]
  },
  {
   "cell_type": "code",
   "execution_count": 8,
   "metadata": {},
   "outputs": [],
   "source": [
    "def test(net, val_data, ctx):\n",
    "    metric = mx.metric.Accuracy()\n",
    "    for i, batch in enumerate(val_data):\n",
    "        data = gluon.utils.split_and_load(batch[0], ctx_list=ctx, batch_axis=0, even_split=False)\n",
    "        label = gluon.utils.split_and_load(batch[1], ctx_list=ctx, batch_axis=0, even_split=False)\n",
    "        outputs = [net(X) for X in data]\n",
    "        metric.update(label, outputs)\n",
    "\n",
    "    return metric.get()"
   ]
  },
  {
   "cell_type": "markdown",
   "metadata": {},
   "source": [
    "Training Loop\n",
    "-------------\n",
    "\n",
    "Following is the main training loop. It is the same as the loop in\n",
    "`CIFAR10 <dive_deep_cifar10.html>`__\n",
    "and ImageNet.\n",
    "\n",
    "<div class=\"alert alert-info\"><h4>Note</h4><p>Once again, in order to go through the tutorial faster, we are training on a small\n",
    "    subset of the original ``MINC-2500`` dataset, and for only 5 epochs. By training on the\n",
    "    full dataset with 40 epochs, it is expected to get accuracy around 80% on test data.</p></div>\n",
    "\n"
   ]
  },
  {
   "cell_type": "code",
   "execution_count": 9,
   "metadata": {},
   "outputs": [
    {
     "name": "stdout",
     "output_type": "stream",
     "text": [
      "[Epoch 0] Train-acc: 0.045, loss: 3.237 | Val-acc: 0.048 | time: 1093.0\n",
      "[Epoch 1] Train-acc: 0.046, loss: 3.185 | Val-acc: 0.037 | time: 1095.8\n",
      "[Epoch 2] Train-acc: 0.052, loss: 3.147 | Val-acc: 0.028 | time: 1092.1\n",
      "[Epoch 3] Train-acc: 0.081, loss: 3.058 | Val-acc: 0.057 | time: 1091.9\n",
      "[Epoch 4] Train-acc: 0.119, loss: 2.950 | Val-acc: 0.065 | time: 1092.7\n",
      "[Epoch 5] Train-acc: 0.144, loss: 2.865 | Val-acc: 0.059 | time: 1092.6\n",
      "[Epoch 6] Train-acc: 0.163, loss: 2.791 | Val-acc: 0.061 | time: 1091.8\n",
      "[Epoch 7] Train-acc: 0.189, loss: 2.713 | Val-acc: 0.062 | time: 1096.4\n",
      "[Epoch 8] Train-acc: 0.223, loss: 2.622 | Val-acc: 0.049 | time: 1096.2\n",
      "[Epoch 9] Train-acc: 0.239, loss: 2.560 | Val-acc: 0.095 | time: 1096.9\n",
      "[Epoch 10] Train-acc: 0.263, loss: 2.478 | Val-acc: 0.097 | time: 1097.4\n",
      "[Epoch 11] Train-acc: 0.280, loss: 2.424 | Val-acc: 0.059 | time: 1097.7\n",
      "[Epoch 12] Train-acc: 0.299, loss: 2.368 | Val-acc: 0.095 | time: 1097.8\n",
      "[Epoch 13] Train-acc: 0.308, loss: 2.332 | Val-acc: 0.122 | time: 1096.7\n",
      "[Epoch 14] Train-acc: 0.314, loss: 2.311 | Val-acc: 0.073 | time: 1097.7\n",
      "[Epoch 15] Train-acc: 0.319, loss: 2.293 | Val-acc: 0.130 | time: 1095.6\n",
      "[Epoch 16] Train-acc: 0.329, loss: 2.270 | Val-acc: 0.114 | time: 1095.6\n",
      "[Epoch 17] Train-acc: 0.335, loss: 2.240 | Val-acc: 0.154 | time: 1097.2\n",
      "[Epoch 18] Train-acc: 0.343, loss: 2.217 | Val-acc: 0.166 | time: 1096.2\n",
      "[Epoch 19] Train-acc: 0.351, loss: 2.190 | Val-acc: 0.105 | time: 1096.8\n",
      "[Epoch 20] Train-acc: 0.362, loss: 2.153 | Val-acc: 0.154 | time: 1097.1\n",
      "[Epoch 21] Train-acc: 0.372, loss: 2.113 | Val-acc: 0.111 | time: 1097.2\n",
      "[Epoch 22] Train-acc: 0.376, loss: 2.097 | Val-acc: 0.084 | time: 1096.6\n",
      "[Epoch 23] Train-acc: 0.372, loss: 2.116 | Val-acc: 0.082 | time: 1096.5\n",
      "[Epoch 24] Train-acc: 0.380, loss: 2.088 | Val-acc: 0.150 | time: 1097.3\n",
      "[Epoch 25] Train-acc: 0.387, loss: 2.061 | Val-acc: 0.090 | time: 1096.1\n",
      "[Epoch 26] Train-acc: 0.381, loss: 2.084 | Val-acc: 0.105 | time: 1097.1\n",
      "[Epoch 27] Train-acc: 0.386, loss: 2.065 | Val-acc: 0.099 | time: 1097.5\n",
      "[Epoch 28] Train-acc: 0.397, loss: 2.026 | Val-acc: 0.112 | time: 1096.4\n",
      "[Epoch 29] Train-acc: 0.400, loss: 2.015 | Val-acc: 0.130 | time: 1096.9\n",
      "[Epoch 30] Train-acc: 0.410, loss: 1.976 | Val-acc: 0.105 | time: 1097.7\n",
      "[Epoch 31] Train-acc: 0.416, loss: 1.966 | Val-acc: 0.158 | time: 1096.7\n",
      "[Epoch 32] Train-acc: 0.423, loss: 1.940 | Val-acc: 0.161 | time: 1096.9\n",
      "[Epoch 33] Train-acc: 0.419, loss: 1.956 | Val-acc: 0.079 | time: 1095.6\n",
      "[Epoch 34] Train-acc: 0.425, loss: 1.931 | Val-acc: 0.095 | time: 1098.3\n",
      "[Epoch 35] Train-acc: 0.428, loss: 1.922 | Val-acc: 0.133 | time: 1096.6\n",
      "[Epoch 36] Train-acc: 0.423, loss: 1.937 | Val-acc: 0.106 | time: 1095.3\n",
      "[Epoch 37] Train-acc: 0.426, loss: 1.929 | Val-acc: 0.148 | time: 1096.6\n",
      "[Epoch 38] Train-acc: 0.429, loss: 1.919 | Val-acc: 0.142 | time: 1095.8\n",
      "[Epoch 39] Train-acc: 0.439, loss: 1.888 | Val-acc: 0.139 | time: 1096.0\n",
      "[Finished] Test-acc: 0.145\n"
     ]
    }
   ],
   "source": [
    "lr_counter = 0\n",
    "num_batch = len(train_data)\n",
    "\n",
    "for epoch in range(epochs):\n",
    "    if epoch == lr_steps[lr_counter]:\n",
    "        trainer.set_learning_rate(trainer.learning_rate*lr_factor)\n",
    "        lr_counter += 1\n",
    "\n",
    "    tic = time.time()\n",
    "    train_loss = 0\n",
    "    metric.reset()\n",
    "\n",
    "    for i, batch in enumerate(train_data):\n",
    "        data = gluon.utils.split_and_load(batch[0], ctx_list=ctx, batch_axis=0, even_split=False)\n",
    "        label = gluon.utils.split_and_load(batch[1], ctx_list=ctx, batch_axis=0, even_split=False)\n",
    "        with ag.record():\n",
    "            outputs = [finetune_net(X) for X in data]\n",
    "            loss = [L(yhat, y) for yhat, y in zip(outputs, label)]\n",
    "        for l in loss:\n",
    "            l.backward()\n",
    "\n",
    "        trainer.step(batch_size)\n",
    "        train_loss += sum([l.mean().asscalar() for l in loss]) / len(loss)\n",
    "\n",
    "        metric.update(label, outputs)\n",
    "\n",
    "    _, train_acc = metric.get()\n",
    "    train_loss /= num_batch\n",
    "\n",
    "    _, val_acc = test(finetune_net, val_data, ctx)\n",
    "\n",
    "    print('[Epoch %d] Train-acc: %.3f, loss: %.3f | Val-acc: %.3f | time: %.1f' %\n",
    "             (epoch, train_acc, train_loss, val_acc, time.time() - tic))\n",
    "\n",
    "_, test_acc = test(finetune_net, test_data, ctx)\n",
    "print('[Finished] Test-acc: %.3f' % (test_acc))"
   ]
  },
  {
   "cell_type": "code",
   "execution_count": 10,
   "metadata": {},
   "outputs": [],
   "source": [
    "file_name = \"finetune_net.params\"\n",
    "finetune_net.save_parameters(file_name)"
   ]
  },
  {
   "cell_type": "code",
   "execution_count": 14,
   "metadata": {},
   "outputs": [
    {
     "ename": "SyntaxError",
     "evalue": "invalid syntax (<ipython-input-14-0823a81f793a>, line 1)",
     "output_type": "error",
     "traceback": [
      "\u001b[0;36m  File \u001b[0;32m\"<ipython-input-14-0823a81f793a>\"\u001b[0;36m, line \u001b[0;32m1\u001b[0m\n\u001b[0;31m    finetune_net.export(\"finetune2_net.params\", epoch 1)\u001b[0m\n\u001b[0m                                                      ^\u001b[0m\n\u001b[0;31mSyntaxError\u001b[0m\u001b[0;31m:\u001b[0m invalid syntax\n"
     ]
    }
   ],
   "source": [
    "finetune_net.export(\"finetune2_net.params\", epoch 1)"
   ]
  },
  {
   "cell_type": "markdown",
   "metadata": {},
   "source": [
    "Next\n",
    "----\n",
    "\n",
    "Now that you have learned to muster the power of transfer\n",
    "learning, to learn more about training a model on\n",
    "ImageNet, please read `this tutorial <dive_deep_imagenet.html>`__.\n",
    "\n",
    "The idea of transfer learning is the basis of\n",
    "`object detection <../examples_detection/index.html>`_ and\n",
    "`semantic segmentation <../examples_segmentation/index.html>`_,\n",
    "the next two chapters of our tutorial.\n",
    "\n",
    ".. |image-minc| image:: https://raw.githubusercontent.com/dmlc/web-data/master/gluoncv/datasets/MINC-2500.png\n",
    ".. |image-model| image:: https://zh.gluon.ai/_images/fine-tuning.svg\n",
    "\n"
   ]
  },
  {
   "cell_type": "code",
   "execution_count": null,
   "metadata": {},
   "outputs": [],
   "source": []
  }
 ],
 "metadata": {
  "kernelspec": {
   "display_name": "Python 2",
   "language": "python",
   "name": "python2"
  },
  "language_info": {
   "codemirror_mode": {
    "name": "ipython",
    "version": 2
   },
   "file_extension": ".py",
   "mimetype": "text/x-python",
   "name": "python",
   "nbconvert_exporter": "python",
   "pygments_lexer": "ipython2",
   "version": "2.7.17"
  }
 },
 "nbformat": 4,
 "nbformat_minor": 1
}
